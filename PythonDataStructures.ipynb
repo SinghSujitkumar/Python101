{
  "nbformat": 4,
  "nbformat_minor": 0,
  "metadata": {
    "kernelspec": {
      "display_name": "Python 3",
      "language": "python",
      "name": "python3"
    },
    "language_info": {
      "codemirror_mode": {
        "name": "ipython",
        "version": 3
      },
      "file_extension": ".py",
      "mimetype": "text/x-python",
      "name": "python",
      "nbconvert_exporter": "python",
      "pygments_lexer": "ipython3",
      "version": "3.6.0"
    },
    "colab": {
      "name": "PythonDataStructures.ipynb",
      "provenance": []
    }
  },
  "cells": [
    {
      "cell_type": "markdown",
      "metadata": {
        "deletable": true,
        "editable": true,
        "id": "bY2UUi_tl6iI",
        "colab_type": "text"
      },
      "source": [
        "# Built-in Data Structures, Functions, "
      ]
    },
    {
      "cell_type": "markdown",
      "metadata": {
        "deletable": true,
        "editable": true,
        "id": "teBVGRKKl6iJ",
        "colab_type": "text"
      },
      "source": [
        "## Data Structures and Sequences"
      ]
    },
    {
      "cell_type": "markdown",
      "metadata": {
        "deletable": true,
        "editable": true,
        "id": "WhWLoXROl6iJ",
        "colab_type": "text"
      },
      "source": [
        "### Tuple"
      ]
    },
    {
      "cell_type": "code",
      "metadata": {
        "deletable": true,
        "editable": true,
        "id": "WmgmwOFdl6iK",
        "colab_type": "code",
        "outputId": "4691084d-57e6-4da5-bfb6-7bd00b44aebc",
        "colab": {
          "base_uri": "https://localhost:8080/",
          "height": 34
        }
      },
      "source": [
        "tup = 4, 5, 6\n",
        "tup"
      ],
      "execution_count": 0,
      "outputs": [
        {
          "output_type": "execute_result",
          "data": {
            "text/plain": [
              "(4, 5, 6)"
            ]
          },
          "metadata": {
            "tags": []
          },
          "execution_count": 1
        }
      ]
    },
    {
      "cell_type": "code",
      "metadata": {
        "deletable": true,
        "editable": true,
        "id": "XJR-kpYCl6iN",
        "colab_type": "code",
        "outputId": "fabf5c0d-013b-404c-a273-b09996ccaac9",
        "colab": {
          "base_uri": "https://localhost:8080/",
          "height": 34
        }
      },
      "source": [
        "nested_tup = (4, 5, 6), (7, 8)\n",
        "nested_tup"
      ],
      "execution_count": 0,
      "outputs": [
        {
          "output_type": "execute_result",
          "data": {
            "text/plain": [
              "((4, 5, 6), (7, 8))"
            ]
          },
          "metadata": {
            "tags": []
          },
          "execution_count": 4
        }
      ]
    },
    {
      "cell_type": "code",
      "metadata": {
        "deletable": true,
        "editable": true,
        "id": "AaVLSceal6iP",
        "colab_type": "code",
        "outputId": "de644d3c-2942-49cf-abda-5455096c886d",
        "colab": {
          "base_uri": "https://localhost:8080/",
          "height": 34
        }
      },
      "source": [
        "tuple([4, 0, 2])\n",
        "tup = tuple('string')\n",
        "print(tup)"
      ],
      "execution_count": 0,
      "outputs": [
        {
          "output_type": "stream",
          "text": [
            "('s', 't', 'r', 'i', 'n', 'g')\n"
          ],
          "name": "stdout"
        }
      ]
    },
    {
      "cell_type": "code",
      "metadata": {
        "deletable": true,
        "editable": true,
        "id": "AyLG-ucDl6iS",
        "colab_type": "code",
        "outputId": "574b1360-9a9d-4a9b-ef1e-4508ea6c3625",
        "colab": {
          "base_uri": "https://localhost:8080/",
          "height": 34
        }
      },
      "source": [
        "tup[0]"
      ],
      "execution_count": 0,
      "outputs": [
        {
          "output_type": "execute_result",
          "data": {
            "text/plain": [
              "'s'"
            ]
          },
          "metadata": {
            "tags": []
          },
          "execution_count": 5
        }
      ]
    },
    {
      "cell_type": "code",
      "metadata": {
        "deletable": true,
        "editable": true,
        "id": "GBTU92zQl6iV",
        "colab_type": "code",
        "outputId": "c314c2bb-858b-4bd3-ba5b-e4e1d7a75604",
        "colab": {
          "base_uri": "https://localhost:8080/",
          "height": 34
        }
      },
      "source": [
        "tup = tuple(['foo', [1, 2], True])\n",
        "print(tup)\n"
      ],
      "execution_count": 0,
      "outputs": [
        {
          "output_type": "stream",
          "text": [
            "('foo', [1, 2], True)\n"
          ],
          "name": "stdout"
        }
      ]
    },
    {
      "cell_type": "code",
      "metadata": {
        "id": "Z_BFbYPYKHUq",
        "colab_type": "code",
        "colab": {}
      },
      "source": [
        "tup[2] = False"
      ],
      "execution_count": 0,
      "outputs": []
    },
    {
      "cell_type": "code",
      "metadata": {
        "deletable": true,
        "editable": true,
        "id": "XBvgg55dl6iX",
        "colab_type": "code",
        "outputId": "3e00ebd6-0b14-4a61-9d1d-8791fc0242ad",
        "colab": {
          "base_uri": "https://localhost:8080/",
          "height": 34
        }
      },
      "source": [
        "tup[1].extend([3,4])\n",
        "tup"
      ],
      "execution_count": 0,
      "outputs": [
        {
          "output_type": "execute_result",
          "data": {
            "text/plain": [
              "('foo', [1, 2, 3, 4], True)"
            ]
          },
          "metadata": {
            "tags": []
          },
          "execution_count": 29
        }
      ]
    },
    {
      "cell_type": "code",
      "metadata": {
        "deletable": true,
        "editable": true,
        "id": "8j6fYgAql6ia",
        "colab_type": "code",
        "outputId": "2600f19e-0633-4f94-c20f-166a4a9664f6",
        "colab": {
          "base_uri": "https://localhost:8080/",
          "height": 34
        }
      },
      "source": [
        "(4, None, 'foo') + (6, 0) + ('bar',)"
      ],
      "execution_count": 0,
      "outputs": [
        {
          "output_type": "execute_result",
          "data": {
            "text/plain": [
              "(4, None, 'foo', 6, 0, 'bar')"
            ]
          },
          "metadata": {
            "tags": []
          },
          "execution_count": 9
        }
      ]
    },
    {
      "cell_type": "code",
      "metadata": {
        "deletable": true,
        "editable": true,
        "id": "QaEXKmXml6ic",
        "colab_type": "code",
        "colab": {}
      },
      "source": [
        "('foo', 'bar') * 4"
      ],
      "execution_count": 0,
      "outputs": []
    },
    {
      "cell_type": "markdown",
      "metadata": {
        "deletable": true,
        "editable": true,
        "id": "1ctHfI77l6if",
        "colab_type": "text"
      },
      "source": [
        "#### Unpacking tuples"
      ]
    },
    {
      "cell_type": "code",
      "metadata": {
        "deletable": true,
        "editable": true,
        "id": "hJyPqFVPl6if",
        "colab_type": "code",
        "outputId": "196b6e99-10aa-4780-b7fb-8b515498ed86",
        "colab": {
          "base_uri": "https://localhost:8080/",
          "height": 34
        }
      },
      "source": [
        "tup = (4, 5, 6)\n",
        "a, b, c = tup\n",
        "b"
      ],
      "execution_count": 0,
      "outputs": [
        {
          "output_type": "execute_result",
          "data": {
            "text/plain": [
              "5"
            ]
          },
          "metadata": {
            "tags": []
          },
          "execution_count": 10
        }
      ]
    },
    {
      "cell_type": "code",
      "metadata": {
        "deletable": true,
        "editable": true,
        "id": "xY7fu7t-l6ih",
        "colab_type": "code",
        "colab": {}
      },
      "source": [
        "tup = 4, 5, (6, 7)\n",
        "a, b, (c, d) = tup\n",
        "d"
      ],
      "execution_count": 0,
      "outputs": []
    },
    {
      "cell_type": "markdown",
      "metadata": {
        "deletable": true,
        "editable": true,
        "id": "Bp-rhJpdl6ik",
        "colab_type": "text"
      },
      "source": [
        "tmp = a\n",
        "a = b\n",
        "b = tmp"
      ]
    },
    {
      "cell_type": "code",
      "metadata": {
        "deletable": true,
        "editable": true,
        "id": "zYrYnMSxl6ik",
        "colab_type": "code",
        "colab": {}
      },
      "source": [
        "a, b = 1, 2\n",
        "a\n",
        "b\n",
        "b, a = a, b\n",
        "a\n",
        "b"
      ],
      "execution_count": 0,
      "outputs": []
    },
    {
      "cell_type": "code",
      "metadata": {
        "deletable": true,
        "editable": true,
        "id": "t7i8KJXPl6in",
        "colab_type": "code",
        "colab": {}
      },
      "source": [
        "seq = [(1, 2, 3), (4, 5, 6), (7, 8, 9)]\n",
        "for a, b, c in seq:\n",
        "    print('a={0}, b={1}, c={2}'.format(a, b, c))"
      ],
      "execution_count": 0,
      "outputs": []
    },
    {
      "cell_type": "code",
      "metadata": {
        "deletable": true,
        "editable": true,
        "id": "eQk6VqMul6ip",
        "colab_type": "code",
        "colab": {}
      },
      "source": [
        "values = 1, 2, 3, 4, 5\n",
        "a, b, *rest = values\n",
        "a, b\n",
        "rest"
      ],
      "execution_count": 0,
      "outputs": []
    },
    {
      "cell_type": "code",
      "metadata": {
        "deletable": true,
        "editable": true,
        "id": "c_b81_oYl6ir",
        "colab_type": "code",
        "colab": {}
      },
      "source": [
        "a, b, *_ = values"
      ],
      "execution_count": 0,
      "outputs": []
    },
    {
      "cell_type": "markdown",
      "metadata": {
        "deletable": true,
        "editable": true,
        "id": "LEJy9B8vl6it",
        "colab_type": "text"
      },
      "source": [
        "#### Tuple methods"
      ]
    },
    {
      "cell_type": "code",
      "metadata": {
        "deletable": true,
        "editable": true,
        "id": "orxgTQNPl6iu",
        "colab_type": "code",
        "colab": {}
      },
      "source": [
        "a = (1, 2, 2, 2, 3, 4, 2)\n",
        "a.count(2)"
      ],
      "execution_count": 0,
      "outputs": []
    },
    {
      "cell_type": "markdown",
      "metadata": {
        "deletable": true,
        "editable": true,
        "id": "smyEJKoxl6iw",
        "colab_type": "text"
      },
      "source": [
        "### List"
      ]
    },
    {
      "cell_type": "code",
      "metadata": {
        "deletable": true,
        "editable": true,
        "id": "qc_JkCVol6iw",
        "colab_type": "code",
        "outputId": "656c31f5-2260-48b8-85a8-1a399e639a89",
        "colab": {
          "base_uri": "https://localhost:8080/",
          "height": 34
        }
      },
      "source": [
        "a_list = [2, 3, 7, None]\n",
        "tup = ('foo', 'bar', 'baz')\n",
        "b_list = list(tup)\n",
        "b_list\n",
        "b_list[1] = 'peekaboo'\n",
        "b_list"
      ],
      "execution_count": 0,
      "outputs": [
        {
          "output_type": "execute_result",
          "data": {
            "text/plain": [
              "['foo', 'peekaboo', 'baz']"
            ]
          },
          "metadata": {
            "tags": []
          },
          "execution_count": 25
        }
      ]
    },
    {
      "cell_type": "code",
      "metadata": {
        "deletable": true,
        "editable": true,
        "id": "irfvwJq3l6iz",
        "colab_type": "code",
        "colab": {}
      },
      "source": [
        "gen = range(10)\n",
        "gen\n",
        "list(gen)"
      ],
      "execution_count": 0,
      "outputs": []
    },
    {
      "cell_type": "markdown",
      "metadata": {
        "deletable": true,
        "editable": true,
        "id": "4Cm6xhOll6i2",
        "colab_type": "text"
      },
      "source": [
        "#### Adding and removing elements"
      ]
    },
    {
      "cell_type": "code",
      "metadata": {
        "deletable": true,
        "editable": true,
        "id": "rT1QoDL8l6i2",
        "colab_type": "code",
        "colab": {}
      },
      "source": [
        "b_list.append('dwarf')\n",
        "b_list"
      ],
      "execution_count": 0,
      "outputs": []
    },
    {
      "cell_type": "code",
      "metadata": {
        "deletable": true,
        "editable": true,
        "id": "K5AYUbVLl6i5",
        "colab_type": "code",
        "colab": {}
      },
      "source": [
        "b_list.insert(1, 'red')\n",
        "b_list"
      ],
      "execution_count": 0,
      "outputs": []
    },
    {
      "cell_type": "code",
      "metadata": {
        "deletable": true,
        "editable": true,
        "id": "1Hq-N12Jl6i8",
        "colab_type": "code",
        "colab": {}
      },
      "source": [
        "b_list.pop(2)\n",
        "b_list"
      ],
      "execution_count": 0,
      "outputs": []
    },
    {
      "cell_type": "code",
      "metadata": {
        "deletable": true,
        "editable": true,
        "id": "j9x-ShoCl6i9",
        "colab_type": "code",
        "colab": {}
      },
      "source": [
        "b_list.append('foo')\n",
        "b_list\n",
        "b_list.remove('foo')\n",
        "b_list"
      ],
      "execution_count": 0,
      "outputs": []
    },
    {
      "cell_type": "code",
      "metadata": {
        "deletable": true,
        "editable": true,
        "id": "owGe2oZAl6i_",
        "colab_type": "code",
        "colab": {}
      },
      "source": [
        "'dwarf' in b_list"
      ],
      "execution_count": 0,
      "outputs": []
    },
    {
      "cell_type": "code",
      "metadata": {
        "deletable": true,
        "editable": true,
        "id": "wcvICYBkl6jB",
        "colab_type": "code",
        "colab": {}
      },
      "source": [
        "'dwarf' not in b_list"
      ],
      "execution_count": 0,
      "outputs": []
    },
    {
      "cell_type": "markdown",
      "metadata": {
        "deletable": true,
        "editable": true,
        "id": "DCpU4Va4l6jD",
        "colab_type": "text"
      },
      "source": [
        "#### Concatenating and combining lists"
      ]
    },
    {
      "cell_type": "code",
      "metadata": {
        "deletable": true,
        "editable": true,
        "id": "Rh_1c8K0l6jE",
        "colab_type": "code",
        "colab": {}
      },
      "source": [
        "[4, None, 'foo'] + [7, 8, (2, 3)]"
      ],
      "execution_count": 0,
      "outputs": []
    },
    {
      "cell_type": "code",
      "metadata": {
        "deletable": true,
        "editable": true,
        "id": "jppI1jg2l6jG",
        "colab_type": "code",
        "outputId": "ca1abcdc-4b56-43e1-e075-5f00d5ff46d3",
        "colab": {
          "base_uri": "https://localhost:8080/",
          "height": 34
        }
      },
      "source": [
        "x = [4, None, 'foo']\n",
        "x.extend([7, 8, (2, 3)])\n",
        "x"
      ],
      "execution_count": 0,
      "outputs": [
        {
          "output_type": "execute_result",
          "data": {
            "text/plain": [
              "[4, None, 'foo', 7, 8, (2, 3)]"
            ]
          },
          "metadata": {
            "tags": []
          },
          "execution_count": 26
        }
      ]
    },
    {
      "cell_type": "markdown",
      "metadata": {
        "deletable": true,
        "editable": true,
        "id": "gHnGzAiXl6jI",
        "colab_type": "text"
      },
      "source": [
        "everything = []\n",
        "for chunk in list_of_lists:\n",
        "    everything.extend(chunk)"
      ]
    },
    {
      "cell_type": "markdown",
      "metadata": {
        "deletable": true,
        "editable": true,
        "id": "54XDgQ9tl6jJ",
        "colab_type": "text"
      },
      "source": [
        "everything = []\n",
        "for chunk in list_of_lists:\n",
        "    everything = everything + chunk"
      ]
    },
    {
      "cell_type": "markdown",
      "metadata": {
        "deletable": true,
        "editable": true,
        "id": "xZNyqmLll6jJ",
        "colab_type": "text"
      },
      "source": [
        "#### Sorting"
      ]
    },
    {
      "cell_type": "code",
      "metadata": {
        "deletable": true,
        "editable": true,
        "id": "fa7F4O2Vl6jJ",
        "colab_type": "code",
        "outputId": "ec5f9b45-0070-476b-8582-0125b095c0a3",
        "colab": {
          "base_uri": "https://localhost:8080/",
          "height": 34
        }
      },
      "source": [
        "a = [7, 2, 5, 1, 3]\n",
        "a.sort()\n",
        "a"
      ],
      "execution_count": 0,
      "outputs": [
        {
          "output_type": "execute_result",
          "data": {
            "text/plain": [
              "[1, 2, 3, 5, 7]"
            ]
          },
          "metadata": {
            "tags": []
          },
          "execution_count": 12
        }
      ]
    },
    {
      "cell_type": "code",
      "metadata": {
        "deletable": true,
        "editable": true,
        "id": "kZtFoJFwl6jL",
        "colab_type": "code",
        "outputId": "b6515a12-3f5d-47cb-86d7-8cc33631e2e6",
        "colab": {
          "base_uri": "https://localhost:8080/",
          "height": 34
        }
      },
      "source": [
        "b = ['saw', 'small', 'He', 'foxes', 'six']\n",
        "b.sort()\n",
        "b"
      ],
      "execution_count": 0,
      "outputs": [
        {
          "output_type": "execute_result",
          "data": {
            "text/plain": [
              "['He', 'foxes', 'saw', 'six', 'small']"
            ]
          },
          "metadata": {
            "tags": []
          },
          "execution_count": 30
        }
      ]
    },
    {
      "cell_type": "markdown",
      "metadata": {
        "deletable": true,
        "editable": true,
        "id": "udY1N5h9l6jN",
        "colab_type": "text"
      },
      "source": [
        "#### Binary search and maintaining a sorted list"
      ]
    },
    {
      "cell_type": "code",
      "metadata": {
        "deletable": true,
        "editable": true,
        "id": "gN-9tLRll6jN",
        "colab_type": "code",
        "outputId": "2060856a-b527-4403-f677-0cc3442b2d27",
        "colab": {
          "base_uri": "https://localhost:8080/",
          "height": 34
        }
      },
      "source": [
        "import bisect\n",
        "c = [1, 2, 2, 2, 3, 4, 7]\n",
        "bisect.bisect(c, 2)\n",
        "bisect.bisect(c, 5)\n",
        "bisect.insort(c, 6)\n",
        "c"
      ],
      "execution_count": 0,
      "outputs": [
        {
          "output_type": "execute_result",
          "data": {
            "text/plain": [
              "[1, 2, 2, 2, 3, 4, 7]"
            ]
          },
          "metadata": {
            "tags": []
          },
          "execution_count": 31
        }
      ]
    },
    {
      "cell_type": "markdown",
      "metadata": {
        "deletable": true,
        "editable": true,
        "id": "6wrmMFBxl6jP",
        "colab_type": "text"
      },
      "source": [
        "#### Slicing"
      ]
    },
    {
      "cell_type": "code",
      "metadata": {
        "deletable": true,
        "editable": true,
        "id": "19N06uBCl6jQ",
        "colab_type": "code",
        "outputId": "2e5a8a19-a482-4cff-ef7d-4b1af9699bb5",
        "colab": {
          "base_uri": "https://localhost:8080/",
          "height": 34
        }
      },
      "source": [
        "seq = [7, 2, 3, 7, 5, 6, 0, 1]\n",
        "seq[1:5]"
      ],
      "execution_count": 0,
      "outputs": [
        {
          "output_type": "execute_result",
          "data": {
            "text/plain": [
              "[2, 3, 7, 5]"
            ]
          },
          "metadata": {
            "tags": []
          },
          "execution_count": 14
        }
      ]
    },
    {
      "cell_type": "code",
      "metadata": {
        "deletable": true,
        "editable": true,
        "id": "AadbWGB4l6jR",
        "colab_type": "code",
        "outputId": "d1a2ed58-9c81-4bf1-e5b1-464939488407",
        "colab": {
          "base_uri": "https://localhost:8080/",
          "height": 34
        }
      },
      "source": [
        "seq[3:4] = [6, 3]\n",
        "seq"
      ],
      "execution_count": 0,
      "outputs": [
        {
          "output_type": "execute_result",
          "data": {
            "text/plain": [
              "[7, 2, 3, 6, 3, 5, 6, 0, 1]"
            ]
          },
          "metadata": {
            "tags": []
          },
          "execution_count": 15
        }
      ]
    },
    {
      "cell_type": "code",
      "metadata": {
        "deletable": true,
        "editable": true,
        "id": "McRx7FQll6jT",
        "colab_type": "code",
        "outputId": "00d2df25-f8cb-4916-d1c6-d1eddaf5c1ba",
        "colab": {
          "base_uri": "https://localhost:8080/",
          "height": 51
        }
      },
      "source": [
        "print(seq[:5])\n",
        "print(seq[3:])"
      ],
      "execution_count": 0,
      "outputs": [
        {
          "output_type": "stream",
          "text": [
            "[7, 2, 3, 6, 3]\n",
            "[6, 3, 5, 6, 0, 1]\n"
          ],
          "name": "stdout"
        }
      ]
    },
    {
      "cell_type": "code",
      "metadata": {
        "deletable": true,
        "editable": true,
        "id": "Z7y4Lconl6jV",
        "colab_type": "code",
        "outputId": "d55a8a4e-d77a-4d23-8139-c4760027c060",
        "colab": {
          "base_uri": "https://localhost:8080/",
          "height": 51
        }
      },
      "source": [
        "print(seq[-4:])\n",
        "print(seq[-6:-2])"
      ],
      "execution_count": 0,
      "outputs": [
        {
          "output_type": "stream",
          "text": [
            "[5, 6, 0, 1]\n",
            "[6, 3, 5, 6]\n"
          ],
          "name": "stdout"
        }
      ]
    },
    {
      "cell_type": "code",
      "metadata": {
        "deletable": true,
        "editable": true,
        "id": "vHmLAe9ll6jX",
        "colab_type": "code",
        "outputId": "ea3ec794-eddf-4044-cab7-2da33dfc8215",
        "colab": {
          "base_uri": "https://localhost:8080/",
          "height": 34
        }
      },
      "source": [
        "seq[-1:-4]"
      ],
      "execution_count": 0,
      "outputs": [
        {
          "output_type": "execute_result",
          "data": {
            "text/plain": [
              "[]"
            ]
          },
          "metadata": {
            "tags": []
          },
          "execution_count": 34
        }
      ]
    },
    {
      "cell_type": "code",
      "metadata": {
        "deletable": true,
        "editable": true,
        "id": "PudZSJQcl6jZ",
        "colab_type": "code",
        "outputId": "8dc85faa-3718-41a0-adac-e475fb7f2617",
        "colab": {
          "base_uri": "https://localhost:8080/",
          "height": 34
        }
      },
      "source": [
        "seq[::-1]"
      ],
      "execution_count": 0,
      "outputs": [
        {
          "output_type": "execute_result",
          "data": {
            "text/plain": [
              "[1, 0, 6, 5, 3, 6, 3, 2, 7]"
            ]
          },
          "metadata": {
            "tags": []
          },
          "execution_count": 32
        }
      ]
    },
    {
      "cell_type": "markdown",
      "metadata": {
        "deletable": true,
        "editable": true,
        "id": "aFEuIfs1l6jc",
        "colab_type": "text"
      },
      "source": [
        "### Built-in Sequence Functions"
      ]
    },
    {
      "cell_type": "markdown",
      "metadata": {
        "deletable": true,
        "editable": true,
        "id": "vDif9cj2l6jc",
        "colab_type": "text"
      },
      "source": [
        "#### enumerate"
      ]
    },
    {
      "cell_type": "markdown",
      "metadata": {
        "deletable": true,
        "editable": true,
        "id": "84zq7-yol6jc",
        "colab_type": "text"
      },
      "source": [
        "i = 0\n",
        "for value in collection:\n",
        "   # do something with value\n",
        "   i += 1"
      ]
    },
    {
      "cell_type": "markdown",
      "metadata": {
        "deletable": true,
        "editable": true,
        "id": "C1VbvX9Xl6jd",
        "colab_type": "text"
      },
      "source": [
        "for i, value in enumerate(collection):\n",
        "   # do something with value"
      ]
    },
    {
      "cell_type": "markdown",
      "metadata": {
        "deletable": true,
        "editable": true,
        "id": "Gb6hJgL_l6jf",
        "colab_type": "text"
      },
      "source": [
        "#### sorted"
      ]
    },
    {
      "cell_type": "code",
      "metadata": {
        "deletable": true,
        "editable": true,
        "id": "vhmHUgXZl6jf",
        "colab_type": "code",
        "outputId": "6a803def-370f-46dd-c5ee-741af82b6fb1",
        "colab": {
          "base_uri": "https://localhost:8080/",
          "height": 51
        }
      },
      "source": [
        "print(sorted([7, 1, 2, 6, 0, 3, 2]))\n",
        "print(sorted('horse race'))"
      ],
      "execution_count": 0,
      "outputs": [
        {
          "output_type": "stream",
          "text": [
            "[0, 1, 2, 2, 3, 6, 7]\n",
            "[' ', 'a', 'c', 'e', 'e', 'h', 'o', 'r', 'r', 's']\n"
          ],
          "name": "stdout"
        }
      ]
    },
    {
      "cell_type": "markdown",
      "metadata": {
        "deletable": true,
        "editable": true,
        "id": "1wR2XCGhl6jh",
        "colab_type": "text"
      },
      "source": [
        "#### zip"
      ]
    },
    {
      "cell_type": "code",
      "metadata": {
        "deletable": true,
        "editable": true,
        "id": "v6CS7fBOl6jh",
        "colab_type": "code",
        "outputId": "bb5ef29c-5160-4edf-fee0-c8dabfe80d6e",
        "colab": {
          "base_uri": "https://localhost:8080/",
          "height": 34
        }
      },
      "source": [
        "seq1 = ['foo', 'bar', 'baz']\n",
        "seq2 = ['one', 'two', 'three']\n",
        "zipped = zip(seq1, seq2)\n",
        "list(zipped)"
      ],
      "execution_count": 0,
      "outputs": [
        {
          "output_type": "execute_result",
          "data": {
            "text/plain": [
              "[('foo', 'one'), ('bar', 'two'), ('baz', 'three')]"
            ]
          },
          "metadata": {
            "tags": []
          },
          "execution_count": 37
        }
      ]
    },
    {
      "cell_type": "code",
      "metadata": {
        "deletable": true,
        "editable": true,
        "id": "XAJuMdyFl6jj",
        "colab_type": "code",
        "colab": {}
      },
      "source": [
        "seq3 = [False, True]\n",
        "list(zip(seq1, seq2, seq3))"
      ],
      "execution_count": 0,
      "outputs": []
    },
    {
      "cell_type": "code",
      "metadata": {
        "deletable": true,
        "editable": true,
        "id": "g-kxEm5Yl6jl",
        "colab_type": "code",
        "colab": {}
      },
      "source": [
        "for i, (a, b) in enumerate(zip(seq1, seq2)):\n",
        "    print('{0}: {1}, {2}'.format(i, a, b))"
      ],
      "execution_count": 0,
      "outputs": []
    },
    {
      "cell_type": "code",
      "metadata": {
        "deletable": true,
        "editable": true,
        "id": "b9RcxiyLl6jo",
        "colab_type": "code",
        "colab": {}
      },
      "source": [
        "pitchers = [('Nolan', 'Ryan'), ('Roger', 'Clemens'),\n",
        "            ('Schilling', 'Curt')]\n",
        "first_names, last_names = zip(*pitchers)\n",
        "first_names\n",
        "last_names"
      ],
      "execution_count": 0,
      "outputs": []
    },
    {
      "cell_type": "markdown",
      "metadata": {
        "deletable": true,
        "editable": true,
        "id": "zVL-Te7Al6jq",
        "colab_type": "text"
      },
      "source": [
        "#### reversed"
      ]
    },
    {
      "cell_type": "code",
      "metadata": {
        "deletable": true,
        "editable": true,
        "id": "89FB9Nnul6jq",
        "colab_type": "code",
        "colab": {}
      },
      "source": [
        "list(reversed(range(10)))"
      ],
      "execution_count": 0,
      "outputs": []
    },
    {
      "cell_type": "markdown",
      "metadata": {
        "deletable": true,
        "editable": true,
        "id": "oxfgvFuul6jt",
        "colab_type": "text"
      },
      "source": [
        "### dict"
      ]
    },
    {
      "cell_type": "code",
      "metadata": {
        "deletable": true,
        "editable": true,
        "id": "5Wud5QSml6jt",
        "colab_type": "code",
        "outputId": "addbf439-a9de-43cb-e9ee-4b2462aad3e0",
        "colab": {
          "base_uri": "https://localhost:8080/",
          "height": 34
        }
      },
      "source": [
        "\n",
        "d1 = {'a' : 'some value', 'b' : [1, 2, 3, 4]}\n",
        "d1"
      ],
      "execution_count": 1,
      "outputs": [
        {
          "output_type": "execute_result",
          "data": {
            "text/plain": [
              "{'a': 'some value', 'b': [1, 2, 3, 4]}"
            ]
          },
          "metadata": {
            "tags": []
          },
          "execution_count": 1
        }
      ]
    },
    {
      "cell_type": "code",
      "metadata": {
        "deletable": true,
        "editable": true,
        "id": "oU-ZnvWcl6jx",
        "colab_type": "code",
        "outputId": "6043ec80-ef9c-415b-99b8-50a34d63d136",
        "colab": {
          "base_uri": "https://localhost:8080/",
          "height": 34
        }
      },
      "source": [
        "d1[7] = 'an integer'\n",
        "d1"
      ],
      "execution_count": 2,
      "outputs": [
        {
          "output_type": "execute_result",
          "data": {
            "text/plain": [
              "{7: 'an integer', 'a': 'some value', 'b': [1, 2, 3, 4]}"
            ]
          },
          "metadata": {
            "tags": []
          },
          "execution_count": 2
        }
      ]
    },
    {
      "cell_type": "code",
      "metadata": {
        "deletable": true,
        "editable": true,
        "id": "csum6OBBl6jz",
        "colab_type": "code",
        "colab": {
          "base_uri": "https://localhost:8080/",
          "height": 34
        },
        "outputId": "6fd5a74c-7179-4fb6-b26f-c947b47dffd5"
      },
      "source": [
        "'b' in d1"
      ],
      "execution_count": 3,
      "outputs": [
        {
          "output_type": "execute_result",
          "data": {
            "text/plain": [
              "True"
            ]
          },
          "metadata": {
            "tags": []
          },
          "execution_count": 3
        }
      ]
    },
    {
      "cell_type": "code",
      "metadata": {
        "deletable": true,
        "editable": true,
        "id": "UGbyELN0l6j0",
        "colab_type": "code",
        "colab": {
          "base_uri": "https://localhost:8080/",
          "height": 34
        },
        "outputId": "54a45efb-74e6-4a1d-992c-90f0572acc2a"
      },
      "source": [
        "d1[5] = 'some value'\n",
        "d1"
      ],
      "execution_count": 4,
      "outputs": [
        {
          "output_type": "execute_result",
          "data": {
            "text/plain": [
              "{5: 'some value', 7: 'an integer', 'a': 'some value', 'b': [1, 2, 3, 4]}"
            ]
          },
          "metadata": {
            "tags": []
          },
          "execution_count": 4
        }
      ]
    },
    {
      "cell_type": "code",
      "metadata": {
        "id": "7tByYUwKeamF",
        "colab_type": "code",
        "colab": {
          "base_uri": "https://localhost:8080/",
          "height": 102
        },
        "outputId": "4d6ea237-f36f-460c-85a0-1b21b063b9cb"
      },
      "source": [
        "d1['dummy'] = 'another value'\n",
        "d1\n",
        "\n"
      ],
      "execution_count": 5,
      "outputs": [
        {
          "output_type": "execute_result",
          "data": {
            "text/plain": [
              "{5: 'some value',\n",
              " 7: 'an integer',\n",
              " 'a': 'some value',\n",
              " 'b': [1, 2, 3, 4],\n",
              " 'dummy': 'another value'}"
            ]
          },
          "metadata": {
            "tags": []
          },
          "execution_count": 5
        }
      ]
    },
    {
      "cell_type": "code",
      "metadata": {
        "id": "SupEFccwea5n",
        "colab_type": "code",
        "colab": {
          "base_uri": "https://localhost:8080/",
          "height": 85
        },
        "outputId": "8bedd9fd-a309-420a-c10e-149b55c139d5"
      },
      "source": [
        "del d1[5]\n",
        "d1\n",
        "\n",
        "\n"
      ],
      "execution_count": 6,
      "outputs": [
        {
          "output_type": "execute_result",
          "data": {
            "text/plain": [
              "{7: 'an integer',\n",
              " 'a': 'some value',\n",
              " 'b': [1, 2, 3, 4],\n",
              " 'dummy': 'another value'}"
            ]
          },
          "metadata": {
            "tags": []
          },
          "execution_count": 6
        }
      ]
    },
    {
      "cell_type": "code",
      "metadata": {
        "id": "CjkMLtwVebM9",
        "colab_type": "code",
        "colab": {
          "base_uri": "https://localhost:8080/",
          "height": 34
        },
        "outputId": "2c50a692-b417-40f1-d327-12c969c30776"
      },
      "source": [
        "ret = d1.pop('dummy')\n",
        "d1"
      ],
      "execution_count": 7,
      "outputs": [
        {
          "output_type": "execute_result",
          "data": {
            "text/plain": [
              "{7: 'an integer', 'a': 'some value', 'b': [1, 2, 3, 4]}"
            ]
          },
          "metadata": {
            "tags": []
          },
          "execution_count": 7
        }
      ]
    },
    {
      "cell_type": "code",
      "metadata": {
        "deletable": true,
        "editable": true,
        "id": "bP4mivW6l6j2",
        "colab_type": "code",
        "colab": {
          "base_uri": "https://localhost:8080/",
          "height": 34
        },
        "outputId": "0be8519e-c500-4aba-9542-9d11a4f644ee"
      },
      "source": [
        "list(d1.keys())\n",
        "list(d1.values())"
      ],
      "execution_count": 8,
      "outputs": [
        {
          "output_type": "execute_result",
          "data": {
            "text/plain": [
              "['some value', [1, 2, 3, 4], 'an integer']"
            ]
          },
          "metadata": {
            "tags": []
          },
          "execution_count": 8
        }
      ]
    },
    {
      "cell_type": "code",
      "metadata": {
        "deletable": true,
        "editable": true,
        "id": "DwH2OD-wl6j3",
        "colab_type": "code",
        "colab": {
          "base_uri": "https://localhost:8080/",
          "height": 34
        },
        "outputId": "bb54df03-1893-46a3-9ae8-4ee23dc504e5"
      },
      "source": [
        "d1.update({'b' : 'foo', 'c' : 12})\n",
        "d1"
      ],
      "execution_count": 9,
      "outputs": [
        {
          "output_type": "execute_result",
          "data": {
            "text/plain": [
              "{7: 'an integer', 'a': 'some value', 'b': 'foo', 'c': 12}"
            ]
          },
          "metadata": {
            "tags": []
          },
          "execution_count": 9
        }
      ]
    },
    {
      "cell_type": "markdown",
      "metadata": {
        "deletable": true,
        "editable": true,
        "id": "s3lg5Unsl6j5",
        "colab_type": "text"
      },
      "source": [
        "#### Creating dicts from sequences"
      ]
    },
    {
      "cell_type": "markdown",
      "metadata": {
        "deletable": true,
        "editable": true,
        "id": "I-As17-el6j6",
        "colab_type": "text"
      },
      "source": [
        "mapping = {}\n",
        "for key, value in zip(key_list, value_list):\n",
        "    mapping[key] = value"
      ]
    },
    {
      "cell_type": "code",
      "metadata": {
        "deletable": true,
        "editable": true,
        "id": "KLONMVB5l6j7",
        "colab_type": "code",
        "colab": {}
      },
      "source": [
        "mapping = dict(zip(range(5), reversed(range(5))))\n",
        "mapping"
      ],
      "execution_count": 0,
      "outputs": []
    },
    {
      "cell_type": "markdown",
      "metadata": {
        "deletable": true,
        "editable": true,
        "id": "VfGQ_udwl6j8",
        "colab_type": "text"
      },
      "source": [
        "#### Default values"
      ]
    },
    {
      "cell_type": "markdown",
      "metadata": {
        "deletable": true,
        "editable": true,
        "id": "HTUKxvB5l6j9",
        "colab_type": "text"
      },
      "source": [
        "if key in some_dict:\n",
        "    value = some_dict[key]\n",
        "else:\n",
        "    value = default_value"
      ]
    },
    {
      "cell_type": "markdown",
      "metadata": {
        "deletable": true,
        "editable": true,
        "id": "2dfMmMiPl6j-",
        "colab_type": "text"
      },
      "source": [
        "value = some_dict.get(key, default_value)"
      ]
    },
    {
      "cell_type": "code",
      "metadata": {
        "deletable": true,
        "editable": true,
        "id": "bVbfrutcl6j-",
        "colab_type": "code",
        "outputId": "a2759b4f-fb4a-407f-d016-433d69deb35b",
        "colab": {
          "base_uri": "https://localhost:8080/",
          "height": 34
        }
      },
      "source": [
        "words = ['apple', 'bat', 'bar', 'atom', 'book']\n",
        "by_letter = {}\n",
        "for word in words:\n",
        "    letter = word[0]\n",
        "    if letter not in by_letter:\n",
        "        by_letter[letter] = [word]\n",
        "    else:\n",
        "        by_letter[letter].append(word)\n",
        "by_letter"
      ],
      "execution_count": 0,
      "outputs": [
        {
          "output_type": "execute_result",
          "data": {
            "text/plain": [
              "{'a': ['apple', 'atom'], 'b': ['bat', 'bar', 'book']}"
            ]
          },
          "metadata": {
            "tags": []
          },
          "execution_count": 24
        }
      ]
    },
    {
      "cell_type": "markdown",
      "metadata": {
        "deletable": true,
        "editable": true,
        "id": "f5BzWIPpl6kB",
        "colab_type": "text"
      },
      "source": [
        "for word in words:\n",
        "    letter = word[0]\n",
        "    by_letter.setdefault(letter, []).append(word)"
      ]
    },
    {
      "cell_type": "markdown",
      "metadata": {
        "deletable": true,
        "editable": true,
        "id": "VjBlHD6ll6kB",
        "colab_type": "text"
      },
      "source": [
        "from collections import defaultdict\n",
        "by_letter = defaultdict(list)\n",
        "for word in words:\n",
        "    by_letter[word[0]].append(word)"
      ]
    },
    {
      "cell_type": "markdown",
      "metadata": {
        "deletable": true,
        "editable": true,
        "id": "CCvtkNX_l6kC",
        "colab_type": "text"
      },
      "source": [
        "#### Valid dict key types"
      ]
    },
    {
      "cell_type": "code",
      "metadata": {
        "deletable": true,
        "editable": true,
        "id": "gw1pwDMjl6kD",
        "colab_type": "code",
        "colab": {}
      },
      "source": [
        "hash('string')\n",
        "hash((1, 2, (2, 3)))\n",
        "hash((1, 2, [2, 3])) # fails because lists are mutable"
      ],
      "execution_count": 0,
      "outputs": []
    },
    {
      "cell_type": "code",
      "metadata": {
        "deletable": true,
        "editable": true,
        "id": "forSyaaVl6kF",
        "colab_type": "code",
        "colab": {}
      },
      "source": [
        "d = {}\n",
        "d[tuple([1, 2, 3])] = 5\n",
        "d"
      ],
      "execution_count": 0,
      "outputs": []
    },
    {
      "cell_type": "markdown",
      "metadata": {
        "deletable": true,
        "editable": true,
        "id": "FnOTIDuql6kG",
        "colab_type": "text"
      },
      "source": [
        "### set"
      ]
    },
    {
      "cell_type": "code",
      "metadata": {
        "deletable": true,
        "editable": true,
        "id": "Naweh6tCl6kH",
        "colab_type": "code",
        "colab": {
          "base_uri": "https://localhost:8080/",
          "height": 34
        },
        "outputId": "ae5fdc5c-cbef-4ac7-e6ce-f034d9f3d459"
      },
      "source": [
        "set([2, 2, 2, 1, 3, 3])\n"
      ],
      "execution_count": 12,
      "outputs": [
        {
          "output_type": "execute_result",
          "data": {
            "text/plain": [
              "{1, 2, 3}"
            ]
          },
          "metadata": {
            "tags": []
          },
          "execution_count": 12
        }
      ]
    },
    {
      "cell_type": "code",
      "metadata": {
        "deletable": true,
        "editable": true,
        "id": "0uFduFW2l6kI",
        "colab_type": "code",
        "colab": {}
      },
      "source": [
        "a = {1, 2, 3, 4, 5}\n",
        "b = {3, 4, 5, 6, 7, 8}"
      ],
      "execution_count": 0,
      "outputs": []
    },
    {
      "cell_type": "code",
      "metadata": {
        "deletable": true,
        "editable": true,
        "id": "IuiE-qyfl6kK",
        "colab_type": "code",
        "colab": {
          "base_uri": "https://localhost:8080/",
          "height": 34
        },
        "outputId": "c657ae40-1050-442a-893e-6b4572e607ce"
      },
      "source": [
        "a.union(b)\n",
        "\n"
      ],
      "execution_count": 14,
      "outputs": [
        {
          "output_type": "execute_result",
          "data": {
            "text/plain": [
              "{1, 2, 3, 4, 5, 6, 7, 8}"
            ]
          },
          "metadata": {
            "tags": []
          },
          "execution_count": 14
        }
      ]
    },
    {
      "cell_type": "code",
      "metadata": {
        "id": "0in7oOuosBe8",
        "colab_type": "code",
        "colab": {
          "base_uri": "https://localhost:8080/",
          "height": 34
        },
        "outputId": "48a4d2dc-2315-49b0-a36c-e2a4840044f0"
      },
      "source": [
        "a | b"
      ],
      "execution_count": 15,
      "outputs": [
        {
          "output_type": "execute_result",
          "data": {
            "text/plain": [
              "{1, 2, 3, 4, 5, 6, 7, 8}"
            ]
          },
          "metadata": {
            "tags": []
          },
          "execution_count": 15
        }
      ]
    },
    {
      "cell_type": "code",
      "metadata": {
        "deletable": true,
        "editable": true,
        "id": "SghxJybAl6kM",
        "colab_type": "code",
        "colab": {
          "base_uri": "https://localhost:8080/",
          "height": 34
        },
        "outputId": "4d0b8d85-4a57-481d-c7ab-5444dd1cff6f"
      },
      "source": [
        "a.intersection(b)\n"
      ],
      "execution_count": 16,
      "outputs": [
        {
          "output_type": "execute_result",
          "data": {
            "text/plain": [
              "{3, 4, 5}"
            ]
          },
          "metadata": {
            "tags": []
          },
          "execution_count": 16
        }
      ]
    },
    {
      "cell_type": "code",
      "metadata": {
        "id": "Z74acGVEsEem",
        "colab_type": "code",
        "colab": {
          "base_uri": "https://localhost:8080/",
          "height": 34
        },
        "outputId": "869c36d2-6945-4ea0-cd3f-cecf9feb3525"
      },
      "source": [
        "a & b"
      ],
      "execution_count": 17,
      "outputs": [
        {
          "output_type": "execute_result",
          "data": {
            "text/plain": [
              "{3, 4, 5}"
            ]
          },
          "metadata": {
            "tags": []
          },
          "execution_count": 17
        }
      ]
    },
    {
      "cell_type": "code",
      "metadata": {
        "deletable": true,
        "editable": true,
        "id": "roP3JvA7l6kO",
        "colab_type": "code",
        "colab": {}
      },
      "source": [
        "c = a.copy()\n",
        "c |= b\n",
        "c\n",
        "d = a.copy()\n",
        "d &= b\n",
        "d"
      ],
      "execution_count": 0,
      "outputs": []
    },
    {
      "cell_type": "code",
      "metadata": {
        "id": "y71dn5gSsDt6",
        "colab_type": "code",
        "colab": {}
      },
      "source": [
        ""
      ],
      "execution_count": 0,
      "outputs": []
    },
    {
      "cell_type": "code",
      "metadata": {
        "deletable": true,
        "editable": true,
        "id": "A1VN_Trsl6kQ",
        "colab_type": "code",
        "colab": {}
      },
      "source": [
        "my_data = [1, 2, 3, 4]\n",
        "my_set = {tuple(my_data)}\n",
        "my_set"
      ],
      "execution_count": 0,
      "outputs": []
    },
    {
      "cell_type": "code",
      "metadata": {
        "deletable": true,
        "editable": true,
        "id": "lLKLwxcAl6kR",
        "colab_type": "code",
        "colab": {}
      },
      "source": [
        "a_set = {1, 2, 3, 4, 5}\n",
        "{1, 2, 3}.issubset(a_set)\n",
        "a_set.issuperset({1, 2, 3})"
      ],
      "execution_count": 0,
      "outputs": []
    },
    {
      "cell_type": "code",
      "metadata": {
        "deletable": true,
        "editable": true,
        "id": "qcjcARXdl6kS",
        "colab_type": "code",
        "colab": {}
      },
      "source": [
        "{1, 2, 3} == {3, 2, 1}"
      ],
      "execution_count": 0,
      "outputs": []
    }
  ]
}